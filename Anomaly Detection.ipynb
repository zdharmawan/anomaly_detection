{
 "cells": [
  {
   "cell_type": "code",
   "execution_count": 3,
   "metadata": {
    "collapsed": false
   },
   "outputs": [
    {
     "data": {
      "text/html": [
       "<iframe id=\"igraph\" scrolling=\"no\" style=\"border:none;\"seamless=\"seamless\" src=\"https://plot.ly/~zdharmawan/13.embed\" height=\"525\" width=\"100%\"></iframe>"
      ],
      "text/plain": [
       "<plotly.tools.PlotlyDisplay object>"
      ]
     },
     "execution_count": 3,
     "metadata": {},
     "output_type": "execute_result"
    }
   ],
   "source": [
    "import pandas as pd\n",
    "import plotly.plotly as py\n",
    "from plotly.graph_objs import *\n",
    "\n",
    "date_spec = {'timestamp': [1, 2, 3]}\n",
    "train_data = pd.read_csv(\"subject_1.csv\", header=0, index_col=1, parse_dates=date_spec)\n",
    "\n",
    "data = Data([Scatter(x=train_data['timestamp'],y=train_data['heart_rate'])])\n",
    "\n",
    "py.iplot(data, filename = 'basic-line')"
   ]
  },
  {
   "cell_type": "code",
   "execution_count": 2,
   "metadata": {
    "collapsed": false
   },
   "outputs": [
    {
     "data": {
      "text/html": [
       "<iframe id=\"igraph\" scrolling=\"no\" style=\"border:none;\"seamless=\"seamless\" src=\"https://plot.ly/~zdharmawan/13.embed\" height=\"525\" width=\"100%\"></iframe>"
      ],
      "text/plain": [
       "<plotly.tools.PlotlyDisplay object>"
      ]
     },
     "execution_count": 2,
     "metadata": {},
     "output_type": "execute_result"
    }
   ],
   "source": [
    "import pandas as pd\n",
    "import plotly.plotly as py\n",
    "from plotly.graph_objs import *\n",
    "\n",
    "date_spec = {'timestamp': [1, 2]}\n",
    "train_data = pd.read_csv(\"subject_2.csv\", header=0, index_col=1, parse_dates=date_spec)\n",
    "\n",
    "data = Data([Scatter(x=train_data['timestamp'],y=train_data['heart_rate'])])\n",
    "\n",
    "py.iplot(data, filename = 'basic-line')"
   ]
  },
  {
   "cell_type": "code",
   "execution_count": null,
   "metadata": {
    "collapsed": false
   },
   "outputs": [],
   "source": [
    "import pandas as pd\n",
    "import plotly.plotly as py\n",
    "from plotly.graph_objs import *\n",
    "\n",
    "date_spec = {'timestamp': [1, 2]}\n",
    "train_data = pd.read_csv(\"subject_3.csv\", header=0, index_col=1, parse_dates=date_spec)\n",
    "\n",
    "data = Data([Scatter(x=train_data['timestamp'],y=train_data['heart_rate'])])\n",
    "\n",
    "py.iplot(data, filename = 'basic-line')"
   ]
  },
  {
   "cell_type": "code",
   "execution_count": 5,
   "metadata": {
    "collapsed": false
   },
   "outputs": [
    {
     "name": "stdout",
     "output_type": "stream",
     "text": [
      "OneClassSVM(cache_size=200, coef0=0.0, degree=3, gamma=0.0, kernel='rbf',\n",
      "      max_iter=-1, nu=0.5, random_state=None, shrinking=True, tol=0.001,\n",
      "      verbose=False)\n"
     ]
    }
   ],
   "source": [
    "from sklearn.svm import OneClassSVM\n",
    "import pandas as pd\n",
    "\n",
    "train_data = pd.read_csv(\"subject_1.csv\", header=0, index_col=1, parse_dates=[1])\n",
    "test_data = pd.read_csv(\"subject_2.csv\", header=0, index_col=1, parse_dates=[1])\n",
    "\n",
    "clf = OneClassSVM()\n",
    "output_training = clf.fit(train_data)\n",
    "\n",
    "print(output_training)"
   ]
  },
  {
   "cell_type": "code",
   "execution_count": 16,
   "metadata": {
    "collapsed": false
   },
   "outputs": [
    {
     "name": "stdout",
     "output_type": "stream",
     "text": [
      "                  patient_id  second  heart_rate\n",
      "timestamp                                       \n",
      "2015-03-29 00 54           1      51          59\n",
      "2015-03-29 01 13           1      54          63\n",
      "2015-03-29 01 23           1      14          50\n",
      "2015-03-29 01 41           1       8          58\n",
      "2015-03-29 01 54           1       4          54\n",
      "2015-03-29 01 54           1      50          50\n",
      "2015-03-29 02 00           1      40          62\n",
      "2015-03-29 02 01           1      58          53\n",
      "2015-03-29 02 34           1      34          55\n",
      "2015-03-29 02 35           1      40          64\n",
      "2015-03-29 03 13           1      12          61\n",
      "2015-03-29 04 09           1      32          57\n",
      "2015-03-29 04 26           1      40          64\n",
      "2015-03-29 05 10           1       3          65\n",
      "2015-03-29 05 12           1      49          56\n",
      "2015-03-29 05 15           1      53          60\n",
      "2015-03-29 05 20           1      35          52\n",
      "2015-03-29 07 01           1      23         140\n",
      "2015-03-29 07 18           1       8         142\n",
      "2015-03-29 07 30           1      11         114\n",
      "2015-03-29 07 39           1      16         154\n",
      "2015-03-29 07 49           1      11         122\n",
      "2015-03-29 07 53           1      46         122\n",
      "2015-03-29 08 33           1      25          78\n",
      "2015-03-29 08 49           1      51          98\n",
      "2015-03-29 08 56           1      23          96\n",
      "2015-03-29 09 08           1      32          88\n",
      "2015-03-29 09 59           1      29          83\n",
      "2015-03-29 10 21           1      19          77\n",
      "2015-03-29 11 16           1      41          86\n",
      "...                      ...     ...         ...\n",
      "2015-04-28 00 10           1      45          54\n",
      "2015-04-28 00 12           1      43          50\n",
      "2015-04-28 00 29           1      23          65\n",
      "2015-04-28 01 00           1       9          63\n",
      "2015-04-28 01 28           1      20          64\n",
      "2015-04-28 02 14           1      39          60\n",
      "2015-04-28 02 48           1      55          54\n",
      "2015-04-28 03 04           1      12          60\n",
      "2015-04-28 03 52           1      33          57\n",
      "2015-04-28 04 58           1      13          50\n",
      "2015-04-28 06 53           1      23          89\n",
      "2015-04-28 07 46           1      57         158\n",
      "2015-04-28 08 13           1      55          77\n",
      "2015-04-28 09 32           1      35          80\n",
      "2015-04-28 10 06           1      15          91\n",
      "2015-04-28 11 05           1      43          62\n",
      "2015-04-28 12 22           1      15          76\n",
      "2015-04-28 12 49           1      49          78\n",
      "2015-04-28 12 54           1      30          83\n",
      "2015-04-28 13 54           1      25          89\n",
      "2015-04-28 14 21           1      17          73\n",
      "2015-04-28 14 34           1      45          99\n",
      "2015-04-28 18 01           1      15          89\n",
      "2015-04-28 19 56           1      40          62\n",
      "2015-04-28 21 11           1      53          72\n",
      "2015-04-28 22 19           1      11          80\n",
      "2015-04-28 23 15           1      16          57\n",
      "2015-04-28 23 19           1      50          51\n",
      "2015-04-28 23 21           1      27          55\n",
      "2015-04-28 23 50           1      56          50\n",
      "\n",
      "[3000 rows x 3 columns]\n",
      "                  patient_id  second  heart_rate\n",
      "timestamp                                       \n",
      "2015-03-30 00 58           1      10          56\n",
      "2015-03-30 01 03           1       3          62\n",
      "2015-03-30 01 40           1      40          56\n",
      "2015-03-30 02 04           1      42          64\n",
      "2015-03-30 02 10           1      26          64\n",
      "2015-03-30 02 33           1      50          64\n",
      "2015-03-30 02 44           1      32          61\n",
      "2015-03-30 03 51           1      13          64\n",
      "2015-03-30 03 51           1      35          52\n",
      "2015-03-30 04 44           1      10          63\n",
      "2015-03-30 05 25           1      42          64\n",
      "2015-03-30 06 03           1      25          76\n",
      "2015-03-30 06 18           1      20          87\n",
      "2015-03-30 08 07           1      16         180\n",
      "2015-03-30 08 29           1      12         146\n",
      "2015-03-30 09 08           1       2         164\n",
      "2015-03-30 09 34           1      46         149\n",
      "2015-03-30 10 23           1      30         145\n",
      "2015-03-30 10 50           1      33         170\n",
      "2015-03-30 11 13           1      46         184\n",
      "2015-03-30 11 28           1      29         175\n",
      "2015-03-30 12 20           1      54         182\n",
      "2015-03-30 13 37           1      32         173\n",
      "2015-03-30 13 59           1       3         150\n",
      "2015-03-30 14 15           1      28          96\n",
      "2015-03-30 14 26           1      45          85\n",
      "2015-03-30 14 33           1      55          88\n",
      "2015-03-30 15 08           1       6          60\n",
      "2015-03-30 16 14           1      30          68\n",
      "2015-03-30 18 00           1      52          65\n",
      "...                      ...     ...         ...\n",
      "2015-04-29 07 23           1      25         158\n",
      "2015-04-29 07 59           1      10         177\n",
      "2015-04-29 09 35           1      53         146\n",
      "2015-04-29 10 35           1      28         160\n",
      "2015-04-29 11 00           1      40         182\n",
      "2015-04-29 12 02           1      25         177\n",
      "2015-04-29 12 06           1      26         183\n",
      "2015-04-29 12 33           1      30         181\n",
      "2015-04-29 12 56           1      40         160\n",
      "2015-04-29 13 00           1      38         180\n",
      "2015-04-29 13 31           1       6         140\n",
      "2015-04-29 14 32           1      40          92\n",
      "2015-04-29 15 06           1      15          90\n",
      "2015-04-29 15 47           1      28          89\n",
      "2015-04-29 15 50           1      32          71\n",
      "2015-04-29 16 26           1      35          78\n",
      "2015-04-29 17 00           1      52         100\n",
      "2015-04-29 17 21           1      15          79\n",
      "2015-04-29 17 41           1      12          73\n",
      "2015-04-29 17 55           1      33          94\n",
      "2015-04-29 18 13           1      11          94\n",
      "2015-04-29 19 07           1      45          62\n",
      "2015-04-29 19 19           1      36          91\n",
      "2015-04-29 19 22           1      51          97\n",
      "2015-04-29 19 54           1      37          70\n",
      "2015-04-29 20 22           1      38         123\n",
      "2015-04-29 20 31           1      52         164\n",
      "2015-04-29 21 47           1      11          78\n",
      "2015-04-29 22 41           1      56          63\n",
      "2015-04-29 23 16           1      41          52\n",
      "\n",
      "[3000 rows x 3 columns]\n",
      "second\n"
     ]
    }
   ],
   "source": [
    "__author__ = '310176470'\n",
    "\n",
    "from sklearn.svm import OneClassSVM\n",
    "import pandas as pd\n",
    "import pylab as pl\n",
    "\n",
    "date_spec = {'timestamp': [1, 2, 3]}\n",
    "\n",
    "# dateparse = lambda x: datetime.strptime(x, '%Y-%m-%d')\n",
    "train_data = pd.read_csv(\"subject_1.csv\", header=0, index_col=0, parse_dates=date_spec)\n",
    "test_data = pd.read_csv(\"subject_4.csv\", header=0, index_col=0, parse_dates=date_spec)\n",
    "\n",
    "# remove from training data : bp_systolic,bp_diastolic,drink_coffee,eating,sleeping,exercise\n",
    "del train_data['bp_systolic']\n",
    "del train_data['bp_diastolic']\n",
    "del train_data['drink_coffee']\n",
    "del train_data['eating']\n",
    "del train_data['sleeping']\n",
    "del train_data['exercise']\n",
    "print(train_data)\n",
    "\n",
    "# remove from testing data : bp_systolic,bp_diastolic,drink_coffee,eating,sleeping,exercise\n",
    "del test_data['bp_systolic']\n",
    "del test_data['bp_diastolic']\n",
    "del test_data['drink_coffee']\n",
    "del test_data['eating']\n",
    "del test_data['sleeping']\n",
    "del test_data['exercise']\n",
    "print(test_data)\n",
    "\n",
    "clf = OneClassSVM()\n",
    "output_training = clf.fit(train_data)\n",
    "\n",
    "y_pred = clf.predict(test_data)\n",
    "\n",
    "# for data in y_pred:\n",
    "#     if data > 0:\n",
    "#         print(data)\n",
    "\n",
    "for idx, val in enumerate(train_data):\n",
    "    if y_pred[idx] > 0:\n",
    "        print(val)\n",
    "\n",
    "# pl.set_cmap(pl.cm.Paired)\n",
    "# pl.scatter(train_data[y_pred>0], train_data[y_pred>0], c='white', label='inliers')\n",
    "# pl.scatter(train_data[y_pred<=0], train_data[y_pred<=0], c='black', label='outliers')\n",
    "# pl.axis('tight')\n",
    "# pl.legend()\n",
    "# pl.show()"
   ]
  },
  {
   "cell_type": "code",
   "execution_count": null,
   "metadata": {
    "collapsed": true
   },
   "outputs": [],
   "source": []
  }
 ],
 "metadata": {
  "kernelspec": {
   "display_name": "Python 2",
   "language": "python",
   "name": "python2"
  },
  "language_info": {
   "codemirror_mode": {
    "name": "ipython",
    "version": 2
   },
   "file_extension": ".py",
   "mimetype": "text/x-python",
   "name": "python",
   "nbconvert_exporter": "python",
   "pygments_lexer": "ipython2",
   "version": "2.7.6"
  }
 },
 "nbformat": 4,
 "nbformat_minor": 0
}
