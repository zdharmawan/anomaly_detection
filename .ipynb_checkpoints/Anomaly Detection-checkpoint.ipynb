{
 "cells": [
  {
   "cell_type": "code",
   "execution_count": 3,
   "metadata": {
    "collapsed": false
   },
   "outputs": [
    {
     "data": {
      "text/html": [
       "<iframe id=\"igraph\" scrolling=\"no\" style=\"border:none;\"seamless=\"seamless\" src=\"https://plot.ly/~zdharmawan/13.embed\" height=\"525\" width=\"100%\"></iframe>"
      ],
      "text/plain": [
       "<plotly.tools.PlotlyDisplay object>"
      ]
     },
     "execution_count": 3,
     "metadata": {},
     "output_type": "execute_result"
    }
   ],
   "source": [
    "import pandas as pd\n",
    "import plotly.plotly as py\n",
    "from plotly.graph_objs import *\n",
    "\n",
    "date_spec = {'timestamp': [1, 2, 3]}\n",
    "train_data = pd.read_csv(\"subject_1.csv\", header=0, index_col=1, parse_dates=date_spec)\n",
    "\n",
    "data = Data([Scatter(x=train_data['timestamp'],y=train_data['heart_rate'])])\n",
    "\n",
    "py.iplot(data, filename = 'basic-line')"
   ]
  },
  {
   "cell_type": "code",
   "execution_count": 2,
   "metadata": {
    "collapsed": false
   },
   "outputs": [
    {
     "data": {
      "text/html": [
       "<iframe id=\"igraph\" scrolling=\"no\" style=\"border:none;\"seamless=\"seamless\" src=\"https://plot.ly/~zdharmawan/13.embed\" height=\"525\" width=\"100%\"></iframe>"
      ],
      "text/plain": [
       "<plotly.tools.PlotlyDisplay object>"
      ]
     },
     "execution_count": 2,
     "metadata": {},
     "output_type": "execute_result"
    }
   ],
   "source": [
    "import pandas as pd\n",
    "import plotly.plotly as py\n",
    "from plotly.graph_objs import *\n",
    "\n",
    "date_spec = {'timestamp': [1, 2]}\n",
    "train_data = pd.read_csv(\"subject_2.csv\", header=0, index_col=1, parse_dates=date_spec)\n",
    "\n",
    "data = Data([Scatter(x=train_data['timestamp'],y=train_data['heart_rate'])])\n",
    "\n",
    "py.iplot(data, filename = 'basic-line')"
   ]
  },
  {
   "cell_type": "code",
   "execution_count": null,
   "metadata": {
    "collapsed": false
   },
   "outputs": [],
   "source": [
    "import pandas as pd\n",
    "import plotly.plotly as py\n",
    "from plotly.graph_objs import *\n",
    "\n",
    "date_spec = {'timestamp': [1, 2]}\n",
    "train_data = pd.read_csv(\"subject_3.csv\", header=0, index_col=1, parse_dates=date_spec)\n",
    "\n",
    "data = Data([Scatter(x=train_data['timestamp'],y=train_data['heart_rate'])])\n",
    "\n",
    "py.iplot(data, filename = 'basic-line')"
   ]
  },
  {
   "cell_type": "code",
   "execution_count": 5,
   "metadata": {
    "collapsed": false
   },
   "outputs": [
    {
     "name": "stdout",
     "output_type": "stream",
     "text": [
      "OneClassSVM(cache_size=200, coef0=0.0, degree=3, gamma=0.0, kernel='rbf',\n",
      "      max_iter=-1, nu=0.5, random_state=None, shrinking=True, tol=0.001,\n",
      "      verbose=False)\n"
     ]
    }
   ],
   "source": [
    "from sklearn.svm import OneClassSVM\n",
    "import pandas as pd\n",
    "\n",
    "train_data = pd.read_csv(\"subject_1.csv\", header=0, index_col=1, parse_dates=[1])\n",
    "test_data = pd.read_csv(\"subject_2.csv\", header=0, index_col=1, parse_dates=[1])\n",
    "\n",
    "clf = OneClassSVM()\n",
    "output_training = clf.fit(train_data)\n",
    "\n",
    "print(output_training)"
   ]
  },
  {
   "cell_type": "code",
   "execution_count": 15,
   "metadata": {
    "collapsed": false
   },
   "outputs": [
    {
     "name": "stdout",
     "output_type": "stream",
     "text": [
      "                   timestamp  second  heart_rate\n",
      "patient_id                                      \n",
      "1           2015-03-29 00 54      51          59\n",
      "1           2015-03-29 01 13      54          63\n",
      "1           2015-03-29 01 23      14          50\n",
      "1           2015-03-29 01 41       8          58\n",
      "1           2015-03-29 01 54       4          54\n",
      "1           2015-03-29 01 54      50          50\n",
      "1           2015-03-29 02 00      40          62\n",
      "1           2015-03-29 02 01      58          53\n",
      "1           2015-03-29 02 34      34          55\n",
      "1           2015-03-29 02 35      40          64\n",
      "1           2015-03-29 03 13      12          61\n",
      "1           2015-03-29 04 09      32          57\n",
      "1           2015-03-29 04 26      40          64\n",
      "1           2015-03-29 05 10       3          65\n",
      "1           2015-03-29 05 12      49          56\n",
      "1           2015-03-29 05 15      53          60\n",
      "1           2015-03-29 05 20      35          52\n",
      "1           2015-03-29 07 01      23         140\n",
      "1           2015-03-29 07 18       8         142\n",
      "1           2015-03-29 07 30      11         114\n",
      "1           2015-03-29 07 39      16         154\n",
      "1           2015-03-29 07 49      11         122\n",
      "1           2015-03-29 07 53      46         122\n",
      "1           2015-03-29 08 33      25          78\n",
      "1           2015-03-29 08 49      51          98\n",
      "1           2015-03-29 08 56      23          96\n",
      "1           2015-03-29 09 08      32          88\n",
      "1           2015-03-29 09 59      29          83\n",
      "1           2015-03-29 10 21      19          77\n",
      "1           2015-03-29 11 16      41          86\n",
      "...                      ...     ...         ...\n",
      "1           2015-04-28 00 10      45          54\n",
      "1           2015-04-28 00 12      43          50\n",
      "1           2015-04-28 00 29      23          65\n",
      "1           2015-04-28 01 00       9          63\n",
      "1           2015-04-28 01 28      20          64\n",
      "1           2015-04-28 02 14      39          60\n",
      "1           2015-04-28 02 48      55          54\n",
      "1           2015-04-28 03 04      12          60\n",
      "1           2015-04-28 03 52      33          57\n",
      "1           2015-04-28 04 58      13          50\n",
      "1           2015-04-28 06 53      23          89\n",
      "1           2015-04-28 07 46      57         158\n",
      "1           2015-04-28 08 13      55          77\n",
      "1           2015-04-28 09 32      35          80\n",
      "1           2015-04-28 10 06      15          91\n",
      "1           2015-04-28 11 05      43          62\n",
      "1           2015-04-28 12 22      15          76\n",
      "1           2015-04-28 12 49      49          78\n",
      "1           2015-04-28 12 54      30          83\n",
      "1           2015-04-28 13 54      25          89\n",
      "1           2015-04-28 14 21      17          73\n",
      "1           2015-04-28 14 34      45          99\n",
      "1           2015-04-28 18 01      15          89\n",
      "1           2015-04-28 19 56      40          62\n",
      "1           2015-04-28 21 11      53          72\n",
      "1           2015-04-28 22 19      11          80\n",
      "1           2015-04-28 23 15      16          57\n",
      "1           2015-04-28 23 19      50          51\n",
      "1           2015-04-28 23 21      27          55\n",
      "1           2015-04-28 23 50      56          50\n",
      "\n",
      "[3000 rows x 3 columns]\n",
      "                   timestamp  second  heart_rate\n",
      "patient_id                                      \n",
      "1           2015-03-30 00 58      10          56\n",
      "1           2015-03-30 01 03       3          62\n",
      "1           2015-03-30 01 40      40          56\n",
      "1           2015-03-30 02 04      42          64\n",
      "1           2015-03-30 02 10      26          64\n",
      "1           2015-03-30 02 33      50          64\n",
      "1           2015-03-30 02 44      32          61\n",
      "1           2015-03-30 03 51      13          64\n",
      "1           2015-03-30 03 51      35          52\n",
      "1           2015-03-30 04 44      10          63\n",
      "1           2015-03-30 05 25      42          64\n",
      "1           2015-03-30 06 03      25          76\n",
      "1           2015-03-30 06 18      20          87\n",
      "1           2015-03-30 08 07      16         180\n",
      "1           2015-03-30 08 29      12         146\n",
      "1           2015-03-30 09 08       2         164\n",
      "1           2015-03-30 09 34      46         149\n",
      "1           2015-03-30 10 23      30         145\n",
      "1           2015-03-30 10 50      33         170\n",
      "1           2015-03-30 11 13      46         184\n",
      "1           2015-03-30 11 28      29         175\n",
      "1           2015-03-30 12 20      54         182\n",
      "1           2015-03-30 13 37      32         173\n",
      "1           2015-03-30 13 59       3         150\n",
      "1           2015-03-30 14 15      28          96\n",
      "1           2015-03-30 14 26      45          85\n",
      "1           2015-03-30 14 33      55          88\n",
      "1           2015-03-30 15 08       6          60\n",
      "1           2015-03-30 16 14      30          68\n",
      "1           2015-03-30 18 00      52          65\n",
      "...                      ...     ...         ...\n",
      "1           2015-04-29 07 23      25         158\n",
      "1           2015-04-29 07 59      10         177\n",
      "1           2015-04-29 09 35      53         146\n",
      "1           2015-04-29 10 35      28         160\n",
      "1           2015-04-29 11 00      40         182\n",
      "1           2015-04-29 12 02      25         177\n",
      "1           2015-04-29 12 06      26         183\n",
      "1           2015-04-29 12 33      30         181\n",
      "1           2015-04-29 12 56      40         160\n",
      "1           2015-04-29 13 00      38         180\n",
      "1           2015-04-29 13 31       6         140\n",
      "1           2015-04-29 14 32      40          92\n",
      "1           2015-04-29 15 06      15          90\n",
      "1           2015-04-29 15 47      28          89\n",
      "1           2015-04-29 15 50      32          71\n",
      "1           2015-04-29 16 26      35          78\n",
      "1           2015-04-29 17 00      52         100\n",
      "1           2015-04-29 17 21      15          79\n",
      "1           2015-04-29 17 41      12          73\n",
      "1           2015-04-29 17 55      33          94\n",
      "1           2015-04-29 18 13      11          94\n",
      "1           2015-04-29 19 07      45          62\n",
      "1           2015-04-29 19 19      36          91\n",
      "1           2015-04-29 19 22      51          97\n",
      "1           2015-04-29 19 54      37          70\n",
      "1           2015-04-29 20 22      38         123\n",
      "1           2015-04-29 20 31      52         164\n",
      "1           2015-04-29 21 47      11          78\n",
      "1           2015-04-29 22 41      56          63\n",
      "1           2015-04-29 23 16      41          52\n",
      "\n",
      "[3000 rows x 3 columns]\n"
     ]
    },
    {
     "ename": "ValueError",
     "evalue": "invalid literal for float(): 2015-04-28 23 50",
     "output_type": "error",
     "traceback": [
      "\u001b[1;31m---------------------------------------------------------------------------\u001b[0m",
      "\u001b[1;31mValueError\u001b[0m                                Traceback (most recent call last)",
      "\u001b[1;32m<ipython-input-15-a6fb0d22906e>\u001b[0m in \u001b[0;36m<module>\u001b[1;34m()\u001b[0m\n\u001b[0;32m     30\u001b[0m \u001b[1;33m\u001b[0m\u001b[0m\n\u001b[0;32m     31\u001b[0m \u001b[0mclf\u001b[0m \u001b[1;33m=\u001b[0m \u001b[0mOneClassSVM\u001b[0m\u001b[1;33m(\u001b[0m\u001b[1;33m)\u001b[0m\u001b[1;33m\u001b[0m\u001b[0m\n\u001b[1;32m---> 32\u001b[1;33m \u001b[0moutput_training\u001b[0m \u001b[1;33m=\u001b[0m \u001b[0mclf\u001b[0m\u001b[1;33m.\u001b[0m\u001b[0mfit\u001b[0m\u001b[1;33m(\u001b[0m\u001b[0mtrain_data\u001b[0m\u001b[1;33m)\u001b[0m\u001b[1;33m\u001b[0m\u001b[0m\n\u001b[0m\u001b[0;32m     33\u001b[0m \u001b[1;33m\u001b[0m\u001b[0m\n\u001b[0;32m     34\u001b[0m \u001b[0my_pred\u001b[0m \u001b[1;33m=\u001b[0m \u001b[0mclf\u001b[0m\u001b[1;33m.\u001b[0m\u001b[0mpredict\u001b[0m\u001b[1;33m(\u001b[0m\u001b[0mtest_data\u001b[0m\u001b[1;33m)\u001b[0m\u001b[1;33m\u001b[0m\u001b[0m\n",
      "\u001b[1;32m/usr/local/lib/python2.7/dist-packages/sklearn/svm/classes.pyc\u001b[0m in \u001b[0;36mfit\u001b[1;34m(self, X, sample_weight, **params)\u001b[0m\n\u001b[0;32m    745\u001b[0m         \"\"\"\n\u001b[0;32m    746\u001b[0m         super(OneClassSVM, self).fit(X, [], sample_weight=sample_weight,\n\u001b[1;32m--> 747\u001b[1;33m                                      **params)\n\u001b[0m\u001b[0;32m    748\u001b[0m         \u001b[1;32mreturn\u001b[0m \u001b[0mself\u001b[0m\u001b[1;33m\u001b[0m\u001b[0m\n",
      "\u001b[1;32m/usr/local/lib/python2.7/dist-packages/sklearn/svm/base.pyc\u001b[0m in \u001b[0;36mfit\u001b[1;34m(self, X, y, sample_weight)\u001b[0m\n\u001b[0;32m    135\u001b[0m         \u001b[0mself\u001b[0m\u001b[1;33m.\u001b[0m\u001b[0m_sparse\u001b[0m \u001b[1;33m=\u001b[0m \u001b[0msparse\u001b[0m \u001b[1;32mand\u001b[0m \u001b[1;32mnot\u001b[0m \u001b[0mcallable\u001b[0m\u001b[1;33m(\u001b[0m\u001b[0mself\u001b[0m\u001b[1;33m.\u001b[0m\u001b[0mkernel\u001b[0m\u001b[1;33m)\u001b[0m\u001b[1;33m\u001b[0m\u001b[0m\n\u001b[0;32m    136\u001b[0m \u001b[1;33m\u001b[0m\u001b[0m\n\u001b[1;32m--> 137\u001b[1;33m         \u001b[0mX\u001b[0m \u001b[1;33m=\u001b[0m \u001b[0matleast2d_or_csr\u001b[0m\u001b[1;33m(\u001b[0m\u001b[0mX\u001b[0m\u001b[1;33m,\u001b[0m \u001b[0mdtype\u001b[0m\u001b[1;33m=\u001b[0m\u001b[0mnp\u001b[0m\u001b[1;33m.\u001b[0m\u001b[0mfloat64\u001b[0m\u001b[1;33m,\u001b[0m \u001b[0morder\u001b[0m\u001b[1;33m=\u001b[0m\u001b[1;34m'C'\u001b[0m\u001b[1;33m)\u001b[0m\u001b[1;33m\u001b[0m\u001b[0m\n\u001b[0m\u001b[0;32m    138\u001b[0m         \u001b[0my\u001b[0m \u001b[1;33m=\u001b[0m \u001b[0mself\u001b[0m\u001b[1;33m.\u001b[0m\u001b[0m_validate_targets\u001b[0m\u001b[1;33m(\u001b[0m\u001b[0my\u001b[0m\u001b[1;33m)\u001b[0m\u001b[1;33m\u001b[0m\u001b[0m\n\u001b[0;32m    139\u001b[0m \u001b[1;33m\u001b[0m\u001b[0m\n",
      "\u001b[1;32m/usr/local/lib/python2.7/dist-packages/sklearn/utils/validation.pyc\u001b[0m in \u001b[0;36matleast2d_or_csr\u001b[1;34m(X, dtype, order, copy, force_all_finite)\u001b[0m\n\u001b[0;32m    163\u001b[0m     return _atleast2d_or_sparse(X, dtype, order, copy, sp.csr_matrix,\n\u001b[0;32m    164\u001b[0m                                 \u001b[1;34m\"tocsr\"\u001b[0m\u001b[1;33m,\u001b[0m \u001b[0msp\u001b[0m\u001b[1;33m.\u001b[0m\u001b[0misspmatrix_csr\u001b[0m\u001b[1;33m,\u001b[0m\u001b[1;33m\u001b[0m\u001b[0m\n\u001b[1;32m--> 165\u001b[1;33m                                 force_all_finite)\n\u001b[0m\u001b[0;32m    166\u001b[0m \u001b[1;33m\u001b[0m\u001b[0m\n\u001b[0;32m    167\u001b[0m \u001b[1;33m\u001b[0m\u001b[0m\n",
      "\u001b[1;32m/usr/local/lib/python2.7/dist-packages/sklearn/utils/validation.pyc\u001b[0m in \u001b[0;36m_atleast2d_or_sparse\u001b[1;34m(X, dtype, order, copy, sparse_class, convmethod, check_same_type, force_all_finite)\u001b[0m\n\u001b[0;32m    140\u001b[0m     \u001b[1;32melse\u001b[0m\u001b[1;33m:\u001b[0m\u001b[1;33m\u001b[0m\u001b[0m\n\u001b[0;32m    141\u001b[0m         X = array2d(X, dtype=dtype, order=order, copy=copy,\n\u001b[1;32m--> 142\u001b[1;33m                     force_all_finite=force_all_finite)\n\u001b[0m\u001b[0;32m    143\u001b[0m     \u001b[1;32mreturn\u001b[0m \u001b[0mX\u001b[0m\u001b[1;33m\u001b[0m\u001b[0m\n\u001b[0;32m    144\u001b[0m \u001b[1;33m\u001b[0m\u001b[0m\n",
      "\u001b[1;32m/usr/local/lib/python2.7/dist-packages/sklearn/utils/validation.pyc\u001b[0m in \u001b[0;36marray2d\u001b[1;34m(X, dtype, order, copy, force_all_finite)\u001b[0m\n\u001b[0;32m    118\u001b[0m         raise TypeError('A sparse matrix was passed, but dense data '\n\u001b[0;32m    119\u001b[0m                         'is required. Use X.toarray() to convert to dense.')\n\u001b[1;32m--> 120\u001b[1;33m     \u001b[0mX_2d\u001b[0m \u001b[1;33m=\u001b[0m \u001b[0mnp\u001b[0m\u001b[1;33m.\u001b[0m\u001b[0masarray\u001b[0m\u001b[1;33m(\u001b[0m\u001b[0mnp\u001b[0m\u001b[1;33m.\u001b[0m\u001b[0matleast_2d\u001b[0m\u001b[1;33m(\u001b[0m\u001b[0mX\u001b[0m\u001b[1;33m)\u001b[0m\u001b[1;33m,\u001b[0m \u001b[0mdtype\u001b[0m\u001b[1;33m=\u001b[0m\u001b[0mdtype\u001b[0m\u001b[1;33m,\u001b[0m \u001b[0morder\u001b[0m\u001b[1;33m=\u001b[0m\u001b[0morder\u001b[0m\u001b[1;33m)\u001b[0m\u001b[1;33m\u001b[0m\u001b[0m\n\u001b[0m\u001b[0;32m    121\u001b[0m     \u001b[1;32mif\u001b[0m \u001b[0mforce_all_finite\u001b[0m\u001b[1;33m:\u001b[0m\u001b[1;33m\u001b[0m\u001b[0m\n\u001b[0;32m    122\u001b[0m         \u001b[0m_assert_all_finite\u001b[0m\u001b[1;33m(\u001b[0m\u001b[0mX_2d\u001b[0m\u001b[1;33m)\u001b[0m\u001b[1;33m\u001b[0m\u001b[0m\n",
      "\u001b[1;32m/usr/local/lib/python2.7/dist-packages/numpy/core/numeric.pyc\u001b[0m in \u001b[0;36masarray\u001b[1;34m(a, dtype, order)\u001b[0m\n\u001b[0;32m    460\u001b[0m \u001b[1;33m\u001b[0m\u001b[0m\n\u001b[0;32m    461\u001b[0m     \"\"\"\n\u001b[1;32m--> 462\u001b[1;33m     \u001b[1;32mreturn\u001b[0m \u001b[0marray\u001b[0m\u001b[1;33m(\u001b[0m\u001b[0ma\u001b[0m\u001b[1;33m,\u001b[0m \u001b[0mdtype\u001b[0m\u001b[1;33m,\u001b[0m \u001b[0mcopy\u001b[0m\u001b[1;33m=\u001b[0m\u001b[0mFalse\u001b[0m\u001b[1;33m,\u001b[0m \u001b[0morder\u001b[0m\u001b[1;33m=\u001b[0m\u001b[0morder\u001b[0m\u001b[1;33m)\u001b[0m\u001b[1;33m\u001b[0m\u001b[0m\n\u001b[0m\u001b[0;32m    463\u001b[0m \u001b[1;33m\u001b[0m\u001b[0m\n\u001b[0;32m    464\u001b[0m \u001b[1;32mdef\u001b[0m \u001b[0masanyarray\u001b[0m\u001b[1;33m(\u001b[0m\u001b[0ma\u001b[0m\u001b[1;33m,\u001b[0m \u001b[0mdtype\u001b[0m\u001b[1;33m=\u001b[0m\u001b[0mNone\u001b[0m\u001b[1;33m,\u001b[0m \u001b[0morder\u001b[0m\u001b[1;33m=\u001b[0m\u001b[0mNone\u001b[0m\u001b[1;33m)\u001b[0m\u001b[1;33m:\u001b[0m\u001b[1;33m\u001b[0m\u001b[0m\n",
      "\u001b[1;31mValueError\u001b[0m: invalid literal for float(): 2015-04-28 23 50"
     ]
    }
   ],
   "source": [
    "__author__ = '310176470'\n",
    "\n",
    "from sklearn.svm import OneClassSVM\n",
    "import pandas as pd\n",
    "import pylab as pl\n",
    "\n",
    "date_spec = {'timestamp': [1, 2, 3]}\n",
    "\n",
    "# dateparse = lambda x: datetime.strptime(x, '%Y-%m-%d')\n",
    "train_data = pd.read_csv(\"subject_1.csv\", header=0, index_col=0, parse_dates=date_spec)\n",
    "test_data = pd.read_csv(\"subject_4.csv\", header=0, index_col=0, parse_dates=date_spec)\n",
    "\n",
    "# remove from training data : bp_systolic,bp_diastolic,drink_coffee,eating,sleeping,exercise\n",
    "del train_data['bp_systolic']\n",
    "del train_data['bp_diastolic']\n",
    "del train_data['drink_coffee']\n",
    "del train_data['eating']\n",
    "del train_data['sleeping']\n",
    "del train_data['exercise']\n",
    "print(train_data)\n",
    "\n",
    "# remove from testing data : bp_systolic,bp_diastolic,drink_coffee,eating,sleeping,exercise\n",
    "del test_data['bp_systolic']\n",
    "del test_data['bp_diastolic']\n",
    "del test_data['drink_coffee']\n",
    "del test_data['eating']\n",
    "del test_data['sleeping']\n",
    "del test_data['exercise']\n",
    "print(test_data)\n",
    "\n",
    "clf = OneClassSVM()\n",
    "output_training = clf.fit(train_data)\n",
    "\n",
    "y_pred = clf.predict(test_data)\n",
    "\n",
    "# for data in y_pred:\n",
    "#     if data > 0:\n",
    "#         print(data)\n",
    "\n",
    "for idx, val in enumerate(train_data):\n",
    "    if y_pred[idx] > 0:\n",
    "        print(val)\n",
    "\n",
    "# pl.set_cmap(pl.cm.Paired)\n",
    "# pl.scatter(train_data[y_pred>0], train_data[y_pred>0], c='white', label='inliers')\n",
    "# pl.scatter(train_data[y_pred<=0], train_data[y_pred<=0], c='black', label='outliers')\n",
    "# pl.axis('tight')\n",
    "# pl.legend()\n",
    "# pl.show()"
   ]
  },
  {
   "cell_type": "code",
   "execution_count": null,
   "metadata": {
    "collapsed": true
   },
   "outputs": [],
   "source": []
  }
 ],
 "metadata": {
  "kernelspec": {
   "display_name": "Python 2",
   "language": "python",
   "name": "python2"
  },
  "language_info": {
   "codemirror_mode": {
    "name": "ipython",
    "version": 2
   },
   "file_extension": ".py",
   "mimetype": "text/x-python",
   "name": "python",
   "nbconvert_exporter": "python",
   "pygments_lexer": "ipython2",
   "version": "2.7.6"
  }
 },
 "nbformat": 4,
 "nbformat_minor": 0
}
